{
 "cells": [
  {
   "cell_type": "code",
   "execution_count": 1,
   "metadata": {},
   "outputs": [],
   "source": [
    "import pymysql\n",
    "import json\n",
    "import sys\n",
    "import re\n",
    "import os\n",
    "import time"
   ]
  },
  {
   "cell_type": "code",
   "execution_count": 23,
   "metadata": {},
   "outputs": [],
   "source": [
    "def file_name(file_dir):   \n",
    "    L=[]   \n",
    "    for root, dirs, files in os.walk(file_dir):  \n",
    "        for file in files:  \n",
    "            if os.path.splitext(file)[1] == '.json':  \n",
    "                L.append(os.path.join(root, file))  \n",
    "    return L "
   ]
  },
  {
   "cell_type": "code",
   "execution_count": 24,
   "metadata": {},
   "outputs": [],
   "source": [
    "def validateTitle(title):\n",
    "    rstr = r\"[\\/\\\\\\:\\*\\?\\\"\\<\\>\\|\\^\\!]\"  # '/ \\ : * ? \" < > |'\n",
    "    #rstr2=r\"[\\[]\n",
    "    new_title = re.sub(rstr, \"_\", title)  # 替换为下划线\n",
    "    new_title=new_title.replace('[','_').replace(']','_')\n",
    "    return new_title"
   ]
  },
  {
   "cell_type": "code",
   "execution_count": 25,
   "metadata": {},
   "outputs": [],
   "source": [
    "def CheckName250(name):\n",
    "    \n",
    "    if len(name) > 250:\n",
    "        try:\n",
    "            dcd=sprite_name.decode('utf-8')\n",
    "        except:\n",
    "            name=name[0:250]\n",
    "        else:\n",
    "            name=dcd[0:250]\n",
    "    else:\n",
    "        name=name               \n",
    "        \n",
    "    return name"
   ]
  },
  {
   "cell_type": "code",
   "execution_count": 26,
   "metadata": {},
   "outputs": [],
   "source": [
    "def CheckName45(name):\n",
    "    \n",
    "    if len(name) > 45:\n",
    "        try:\n",
    "            dcd=sprite_name.decode('utf-8')\n",
    "        except:\n",
    "            name=name[0:45]\n",
    "        else:\n",
    "            name=dcd[0:45]\n",
    "    else:\n",
    "        name=name               \n",
    "        \n",
    "    return name"
   ]
  },
  {
   "cell_type": "code",
   "execution_count": 27,
   "metadata": {},
   "outputs": [
    {
     "name": "stdout",
     "output_type": "stream",
     "text": [
      "510555\n"
     ]
    }
   ],
   "source": [
    "#'sample2'\n",
    "#file_dir='projects_json'\n",
    "file_dir='/Volumes/2017Tang/mac20200127/document/201909/Project/ProgramFolder/projects_json'\n",
    "L=file_name(file_dir)\n",
    "\n",
    "len_L=int(len(L))\n",
    "Json_name=[]\n",
    "for i in range(0,len_L):\n",
    "    #name_t=id_n=L[i].split('/')[1]\n",
    "    name_t=id_n=L[i].split('/')[9]\n",
    "    Json_name.append(name_t)\n",
    "\n",
    "print(len(Json_name))"
   ]
  },
  {
   "cell_type": "code",
   "execution_count": 41,
   "metadata": {},
   "outputs": [
    {
     "name": "stdout",
     "output_type": "stream",
     "text": [
      "(0, 9, 3, None)\n",
      "Database version : 8.0.18 \n"
     ]
    }
   ],
   "source": [
    "#connect to mysql database 'test_j'\n",
    "db = pymysql.connect(unix_socket='/tmp/mysql.sock', user='root', password='qwer1234', db='RProject')\n",
    "print(pymysql.VERSION)\n",
    "\n",
    "cur = db.cursor()\n",
    "cur.execute(\"SELECT VERSION()\")\n",
    "data = cur.fetchone()\n",
    "print (\"Database version : %s \" % data)"
   ]
  },
  {
   "cell_type": "code",
   "execution_count": 11,
   "metadata": {},
   "outputs": [
    {
     "data": {
      "text/plain": [
       "510555"
      ]
     },
     "execution_count": 11,
     "metadata": {},
     "output_type": "execute_result"
    }
   ],
   "source": [
    "len_L"
   ]
  },
  {
   "cell_type": "code",
   "execution_count": 20,
   "metadata": {},
   "outputs": [
    {
     "data": {
      "text/plain": [
       "'94468907.json'"
      ]
     },
     "execution_count": 20,
     "metadata": {},
     "output_type": "execute_result"
    }
   ],
   "source": [
    "L[0].split('/')[9]\n"
   ]
  },
  {
   "cell_type": "code",
   "execution_count": 30,
   "metadata": {},
   "outputs": [
    {
     "name": "stdout",
     "output_type": "stream",
     "text": [
      "Insert table: Projects. 2020-02-02 00:26:35\n",
      "Insert finished. 2020-02-02 07:54:45\n"
     ]
    }
   ],
   "source": [
    "#insert table: Projects encoding='UTF-8'\n",
    "print('Insert table: Projects.',time.strftime(\"%Y-%m-%d %H:%M:%S\", time.localtime()))\n",
    "list_v3=[]\n",
    "list_v2=[]\n",
    "for i in range(0,len_L):\n",
    "    #print(L[i])\n",
    "    with open(L[i],'r',encoding='ISO-8859-1') as f:\n",
    "        try:\n",
    "            dict_json = json.load(f)\n",
    "        except:\n",
    "            print(L[i])\n",
    "        else:\n",
    "            dict_json = dict_json\n",
    "    \n",
    "    if 'meta' in dict_json:\n",
    "        ver_j=3\n",
    "    else:\n",
    "        ver_j=2\n",
    "    \n",
    "    file_name=Json_name[i]\n",
    "    id_n=file_name.split('.')[0] \n",
    "    project_id=int(id_n)\n",
    "    \n",
    "    if ver_j==3:\n",
    "        list_v3.append(file_name)\n",
    "    else:\n",
    "        list_v2.append(file_name)\n",
    "    \n",
    "    #cur.execute(\"INSERT INTO Projects(ID,version) VALUES('%s','%s')\",[project_id,ver_j])\n",
    "\n",
    "    #db.commit()\n",
    "print('Insert finished.',time.strftime(\"%Y-%m-%d %H:%M:%S\", time.localtime()))\n",
    "\n"
   ]
  },
  {
   "cell_type": "code",
   "execution_count": null,
   "metadata": {},
   "outputs": [],
   "source": [
    "#3s"
   ]
  },
  {
   "cell_type": "code",
   "execution_count": 31,
   "metadata": {},
   "outputs": [],
   "source": [
    "len_v3=int(len(list_v3))\n",
    "len_v2=int(len(list_v2))"
   ]
  },
  {
   "cell_type": "code",
   "execution_count": 32,
   "metadata": {},
   "outputs": [
    {
     "data": {
      "text/plain": [
       "508704"
      ]
     },
     "execution_count": 32,
     "metadata": {},
     "output_type": "execute_result"
    }
   ],
   "source": [
    "len_v3\n"
   ]
  },
  {
   "cell_type": "code",
   "execution_count": 33,
   "metadata": {},
   "outputs": [
    {
     "data": {
      "text/plain": [
       "1851"
      ]
     },
     "execution_count": 33,
     "metadata": {},
     "output_type": "execute_result"
    }
   ],
   "source": [
    "len_v2"
   ]
  },
  {
   "cell_type": "code",
   "execution_count": 37,
   "metadata": {},
   "outputs": [
    {
     "name": "stdout",
     "output_type": "stream",
     "text": [
      "Insert table: Scripts. 2020-02-02 15:02:38\n"
     ]
    },
    {
     "ename": "FileNotFoundError",
     "evalue": "[Errno 2] No such file or directory: 'projects_json/96914847.json'",
     "output_type": "error",
     "traceback": [
      "\u001b[0;31m---------------------------------------------------------------------------\u001b[0m",
      "\u001b[0;31mFileNotFoundError\u001b[0m                         Traceback (most recent call last)",
      "\u001b[0;32m<ipython-input-37-f58a2307d29f>\u001b[0m in \u001b[0;36m<module>\u001b[0;34m()\u001b[0m\n\u001b[1;32m      6\u001b[0m     \u001b[0;31m#print(list_v3[i])\u001b[0m\u001b[0;34m\u001b[0m\u001b[0;34m\u001b[0m\u001b[0;34m\u001b[0m\u001b[0m\n\u001b[1;32m      7\u001b[0m     \u001b[0mfile_ad\u001b[0m\u001b[0;34m=\u001b[0m\u001b[0;34m'projects_json/'\u001b[0m\u001b[0;34m+\u001b[0m\u001b[0mlist_v3\u001b[0m\u001b[0;34m[\u001b[0m\u001b[0mi\u001b[0m\u001b[0;34m]\u001b[0m\u001b[0;34m\u001b[0m\u001b[0;34m\u001b[0m\u001b[0m\n\u001b[0;32m----> 8\u001b[0;31m     \u001b[0;32mwith\u001b[0m \u001b[0mopen\u001b[0m\u001b[0;34m(\u001b[0m\u001b[0mfile_ad\u001b[0m\u001b[0;34m,\u001b[0m\u001b[0;34m'r'\u001b[0m\u001b[0;34m,\u001b[0m\u001b[0mencoding\u001b[0m\u001b[0;34m=\u001b[0m\u001b[0;34m'ISO-8859-1'\u001b[0m\u001b[0;34m)\u001b[0m \u001b[0;32mas\u001b[0m \u001b[0mf\u001b[0m\u001b[0;34m:\u001b[0m\u001b[0;34m\u001b[0m\u001b[0;34m\u001b[0m\u001b[0m\n\u001b[0m\u001b[1;32m      9\u001b[0m         \u001b[0mdict_json\u001b[0m \u001b[0;34m=\u001b[0m \u001b[0mjson\u001b[0m\u001b[0;34m.\u001b[0m\u001b[0mload\u001b[0m\u001b[0;34m(\u001b[0m\u001b[0mf\u001b[0m\u001b[0;34m)\u001b[0m\u001b[0;34m\u001b[0m\u001b[0;34m\u001b[0m\u001b[0m\n\u001b[1;32m     10\u001b[0m \u001b[0;34m\u001b[0m\u001b[0m\n",
      "\u001b[0;31mFileNotFoundError\u001b[0m: [Errno 2] No such file or directory: 'projects_json/96914847.json'"
     ]
    }
   ],
   "source": [
    "#insert table: Scripts\n",
    "\n",
    "print('Insert table: Scripts.',time.strftime(\"%Y-%m-%d %H:%M:%S\", time.localtime()))\n",
    "\n",
    "for i in range(0,len_v3):\n",
    "    #print(list_v3[i])\n",
    "    file_ad='projects_json/'+list_v3[i]\n",
    "    with open(file_ad,'r',encoding='ISO-8859-1') as f:\n",
    "        dict_json = json.load(f)  \n",
    "    \n",
    "    file_name=list_v3[i]\n",
    "    id_n=file_name.split('.')[0] \n",
    "    project_id=int(id_n)\n",
    "    \n",
    "    \n",
    "    len_script=len(dict_json['targets'])\n",
    "    if len_script > 0:\n",
    "        for j in range(0,len_script):\n",
    "            sprite_no=j\n",
    "            sprite_name=dict_json['targets'][j]['name']\n",
    "            block_vol=len(dict_json['targets'][j]['blocks'].keys())\n",
    "            \n",
    "            if len(sprite_name) > 250:\n",
    "                try:\n",
    "                    dcd=sprite_name.decode('utf-8')\n",
    "                except:\n",
    "                    sprite_name=sprite_name[0:250]\n",
    "                else:\n",
    "                    sprite_name=dcd[0:250]\n",
    "            \n",
    "            cur.execute(\"INSERT INTO Scripts(Project_id,Sprite_No,Sprite_name,Block_vol) VALUES(%s,%s,%s,%s)\",[project_id,sprite_no,sprite_name,block_vol])\n",
    "\n",
    "\n",
    "db.commit()\n",
    "\n",
    "print('Insert finished.',time.strftime(\"%Y-%m-%d %H:%M:%S\", time.localtime()))\n"
   ]
  },
  {
   "cell_type": "code",
   "execution_count": 40,
   "metadata": {},
   "outputs": [],
   "source": [
    "#4s"
   ]
  },
  {
   "cell_type": "code",
   "execution_count": 55,
   "metadata": {},
   "outputs": [
    {
     "data": {
      "text/plain": [
       "'aa'"
      ]
     },
     "execution_count": 55,
     "metadata": {},
     "output_type": "execute_result"
    }
   ],
   "source": [
    "aaa='aaaaaa'\n",
    "aaaa=str(aaa)\n",
    "\n",
    "aaaa[0:2]"
   ]
  },
  {
   "cell_type": "code",
   "execution_count": 64,
   "metadata": {},
   "outputs": [
    {
     "data": {
      "text/plain": [
       "'U{%|DDH=mIL5CTf=m5[1'"
      ]
     },
     "execution_count": 64,
     "metadata": {},
     "output_type": "execute_result"
    }
   ],
   "source": [
    "list(dict_json['targets'][0]['blocks'].keys())[1]"
   ]
  },
  {
   "cell_type": "code",
   "execution_count": 44,
   "metadata": {},
   "outputs": [
    {
     "name": "stdout",
     "output_type": "stream",
     "text": [
      "Insert table: Blocks. 2020-02-03 02:21:50\n",
      "Insert finished. 2020-02-03 08:05:52\n"
     ]
    }
   ],
   "source": [
    "#insert table: Blocks\n",
    "#add parameters\n",
    "\n",
    "print('Insert table: Blocks.',time.strftime(\"%Y-%m-%d %H:%M:%S\", time.localtime()))\n",
    "\n",
    "\n",
    "#if len_script > 0\n",
    "#if block_vol > 0\n",
    "\n",
    "#for i in range(0,len_v3):\n",
    "#for i in range(0,50000):\n",
    "#for i in range(50000,100000):\n",
    "#for i in range(100000,150000):\n",
    "#for i in range(150000,200000):\n",
    "#for i in range(200000,300000):\n",
    "#for i in range(300000,400000):\n",
    "for i in range(400000,len_v3):\n",
    "    #print(list_v3[i])\n",
    "    #file_ad='projects_json/'+list_v3[i]\n",
    "    file_ad='/Volumes/2017Tang/mac20200127/document/201909/Project/ProgramFolder/projects_json/'+list_v3[i]\n",
    "    with open(file_ad,'r',encoding='ISO-8859-1') as f:\n",
    "        dict_json = json.load(f)  \n",
    "    \n",
    "    file_name=list_v3[i]\n",
    "    id_n=file_name.split('.')[0] \n",
    "    project_id=int(id_n)\n",
    "    \n",
    "    #print(project_id)\n",
    "    \n",
    "    len_script=len(dict_json['targets'])\n",
    "    if len_script > 0:\n",
    "        for j in range(0,len_script):\n",
    "            sprite_no=j\n",
    "            sprite_name=dict_json['targets'][j]['name']\n",
    "            block_vol=len(dict_json['targets'][j]['blocks'].keys())\n",
    "            keys_b=list(dict_json['targets'][j]['blocks'].keys())\n",
    "            \n",
    "            #print(j)\n",
    "            \n",
    "            if block_vol > 0:\n",
    "                for k in range(0,block_vol):\n",
    "                    block_no=k\n",
    "                    type_l=0\n",
    "                    \n",
    "                    #print(k)\n",
    "                    \n",
    "                    block_name=list(dict_json['targets'][j]['blocks'].keys())[k]\n",
    "                    b_tp=type(dict_json['targets'][j]['blocks'][keys_b[k]])\n",
    "                    if b_tp==dict:\n",
    "                        if 'opcode' in dict_json['targets'][j]['blocks'][keys_b[k]]:\n",
    "                            opcode_b=dict_json['targets'][j]['blocks'][keys_b[k]]['opcode']\n",
    "                        if 'next' in dict_json['targets'][j]['blocks'][keys_b[k]]:\n",
    "                            next_b=dict_json['targets'][j]['blocks'][keys_b[k]]['next']\n",
    "                        if 'parent' in dict_json['targets'][j]['blocks'][keys_b[k]]:\n",
    "                            parent_b=dict_json['targets'][j]['blocks'][keys_b[k]]['parent']\n",
    "                        else:\n",
    "                            parent_b=' '\n",
    "                    elif b_tp==list:\n",
    "                        type_l=1\n",
    "                    \n",
    "                    \n",
    "                    \n",
    "                    \n",
    "                    if isinstance(next_b,str):\n",
    "                        next_b=next_b\n",
    "                    else:\n",
    "                        next_b=' '\n",
    "                \n",
    "                    if isinstance(parent_b,str):\n",
    "                        parent_b=parent_b\n",
    "                    else:\n",
    "                        parent_b=' '\n",
    "                    \n",
    "                    \n",
    "                    \n",
    "                    para1=' '\n",
    "                    para2=' '\n",
    "                    \n",
    "                    if 'input' in dict_json['targets'][j]['blocks'][keys_b[k]]:\n",
    "                        i_tp=type(dict_json['targets'][j]['blocks'][keys_b[k]])\n",
    "                        if i_tp==dict:\n",
    "                            keys_i=list(dict_json['targets'][j]['blocks'][keys_b[k]]['input'].keys())\n",
    "                            len_k=len(keys_i)\n",
    "                            if len_k == 0:\n",
    "                                para1=' '\n",
    "                                para2=' '\n",
    "                            else:\n",
    "                                para_t1=dict_json['targets'][j]['blocks'][keys_b[k]]['input'][keys_i[0]][1]\n",
    "                                if type(para_t1)==list:\n",
    "                                    para_t1=para_t1[1]\n",
    "                                para1=para_t1\n",
    "                            if len_k > 1:\n",
    "                                para_t2=dict_json['targets'][j]['blocks'][keys_b[k]]['input'][keys_i[1]][1]\n",
    "                                if type(para_t2)==list:\n",
    "                                    para_t2=para_t2[1]\n",
    "                                para2=para_t2\n",
    "                        elif i_tp==list:\n",
    "                            para1=dict_json['targets'][j]['blocks'][keys_b[k]][2]\n",
    "                    \n",
    "                    if type_l==1:\n",
    "                        para1=dict_json['targets'][j]['blocks'][keys_b[k]][1]\n",
    "                        \n",
    "                    \n",
    "                    #next_b=validateTitle(next_b)\n",
    "                    #opcode_b=validateTitle(opcode_b)\n",
    "                    #parent_b=validateTitle(parent_b)\n",
    "                    sprite_name=CheckName250(sprite_name)\n",
    "                    block_name=CheckName250(block_name)\n",
    "                    para1=CheckName45(para1)\n",
    "                    para2=CheckName45(para2)\n",
    "                \n",
    "                    cur.execute(\"INSERT INTO Blocks(Project_id,Sprite_No,Sprite_name,Block_No,Block_name,opcode,next,parent,para1,para2) VALUES(%s,%s,%s,%s,%s,%s,%s,%s,%s,%s)\",[project_id,sprite_no,sprite_name,block_no,block_name,opcode_b,next_b,parent_b,para1,para2])\n",
    "\n",
    "\n",
    "\n",
    "db.commit()\n",
    "\n",
    "print('Insert finished.',time.strftime(\"%Y-%m-%d %H:%M:%S\", time.localtime()))\n"
   ]
  },
  {
   "cell_type": "code",
   "execution_count": null,
   "metadata": {},
   "outputs": [],
   "source": [
    "#55s\n",
    "\n",
    "\n",
    "\n",
    "\n",
    "\n",
    "\n",
    "\n"
   ]
  },
  {
   "cell_type": "code",
   "execution_count": 17,
   "metadata": {},
   "outputs": [
    {
     "data": {
      "text/plain": [
       "'pbh--/x0eWHn%QD}P|GX'"
      ]
     },
     "execution_count": 17,
     "metadata": {},
     "output_type": "execute_result"
    }
   ],
   "source": [
    "dict_json['targets'][j]['blocks'][keys_b[k]][2]"
   ]
  },
  {
   "cell_type": "code",
   "execution_count": 16,
   "metadata": {},
   "outputs": [
    {
     "name": "stdout",
     "output_type": "stream",
     "text": [
      "Insert table: Blocks. 2020-02-01 14:34:13\n",
      "0\n",
      "0\n",
      "1\n",
      "1\n",
      "2\n",
      "2\n",
      "Ew?0fA#.`~Vtt`Iza`9q\n",
      "KAC#/UfM1NnMnJKZ:t0l\n",
      "Fh96S?pqG4fsaDBq/;u*\n",
      "?CN~Fk[dU;bI5arpr3`;\n",
      "7c-u`;!l%sMrtG0#=B6k\n",
      "|,(lA{a`Zr?QIF`~{BCT\n",
      "PXxChNv4_$n%MV%vpoUy\n",
      "5d=xX@@qjVoUyg)y:m_l\n",
      "|n@:ZWVD@0uv%M=SFE?R\n",
      "9z[4qU?PvH#U+S4BT^Kx\n",
      "cwYPyW-^T;+;7a`BYLJk\n",
      "tl)sBIw).+/PAfLPqOwt\n",
      "DcK.J.WeG8ULvcH^|(7L\n",
      "dq:cabR3P|$bDNLRVUz8\n",
      "HrWx+2BM|o8~[ESJ7DHC\n",
      "o0id9Q=ZX+8=EB^YX{w}\n",
      "}?;tm!S0Ze5[ot7-4]BL\n",
      "XXZuQR5xY^hO(3:,L=z[\n",
      "9/,ex;d(o99QBdgd8XT}\n",
      "*KYy{,4Ak}%q*g8.?L9]\n",
      "=SpZ^yPm99kTQ{dK~yVG\n",
      "$l^]M555DefKIIld(IRK\n",
      "lrVl=PLq^bobrRVssmpu\n",
      "ybh7@oo6VHwK|#UtZ1Y^\n",
      "UBni8a%x,!FOcX1E{[;/\n",
      "I}k4+t.Yd^XwGa69rKX^\n",
      "*M57P!X8kAo-`kZ~-sp.\n",
      "lEKKO}@WCj3g7NUe/wrb\n",
      "f1Ojw:.9OPEx?X;+?Vs8\n",
      ".GOWq|$9T)VODs+F#]Jm\n",
      "FY[RJ3e/t4itC.^xSnr}\n",
      "4]^h@v#zt:(HB;8(BJdB\n",
      ";~jQil(8ieHB%=K`ApVs\n",
      "Uv,KMX0O3jtUSLN@h7Wf\n",
      "bk*{bq|MAvHD5Ww-Z/6Z\n",
      "{bs|P[K/H}=y]5)tw:ut\n",
      "clnt=5O/,s%`OcX6plNC\n",
      "v:F-(b0*/N,!olaOIq0t\n",
      "q*fCR`*-C:7*vb+[tjSW\n",
      "#:6VBzoa`!=;)/:6enFP\n",
      "kAT__yB^veU~K,$(/8UY\n",
      "3[;;13l+.A4{:bggGs8C\n",
      "DUjU(59+)9v*bj4zG`A!\n",
      "CT_3y}c;?meXQA~q0%d@\n",
      "g@+GahI_:D9Wu%TRJKp`\n",
      "*aQ(iBfdwZyCcIgVT_jD\n",
      "DQs1DAb.8q{iUEf@T-N4\n",
      "tALEw5wV]:hcZA|6n/Lt\n",
      "=QSCGzQ;H.WuLwkP1yCO\n",
      "`WB{6v(s;B+XUe+`G|JQ\n",
      "$@kpx1Of@UhjG}DjQ=J1\n",
      ":oq7]yG3[!ibQV_o}M9+\n",
      "90.Yj|;p6?(l,[E:zkOf\n",
      "Av5F)YWoYiSy]u$X$Mn#\n",
      "c``ya?%?habs*ERO:Ag#\n",
      "{D4C;@|ws//@UvV5JZZc\n",
      "KueCEEeI=DCM-pL]gnsJ\n",
      "1zbKm`PH,iG=mAdSwU7G\n",
      "JGy8}?}UcK.(]DR3DXq`\n",
      "B/LXf#}0j_SLYbq!4HqW\n",
      "~b`;|`OT46u9#3K{{P`%\n",
      "ZiAx]o.!dtp9xTJA(D9{\n",
      "Jg.GXG[DWug2fcI{=mqm\n",
      "}f66J4s9$KzyVm9Er!.0\n",
      "%woBj_*/2G^J~)+g(mhf\n",
      "ty^F*q)0u_tK$..hWbET\n",
      "EBQbG)4E053!rd4gyFmM\n",
      "E_QVW|i,sZ5P#j3T~%A_\n",
      "LqkDX8Z*iH/yWQh]vO]@\n",
      "bAxa[Y_L8]o9/}H}b/tp\n",
      "2Ht0+CtWY51Cy$B(0LLE\n",
      "UajS9/IWn_8;7qiJ%t2O\n",
      "d!C|j}CK2Ize4*-.U$!i\n",
      "zMzZiELixIJ^=,F,JQUm\n",
      "u(YeP9cj-=zl!61/Hg`y\n",
      "]5,.uolx`*/{C]|_0DhZ\n",
      "I54iPIdZ0J`}QaYUg9sO\n",
      "OUit!H])7*E2.QfiQ_.2\n",
      "8Qb.6aF+`icF/CD]G^YH\n",
      "#,0+;YB)ifJgSH7E@{Gq\n",
      "l#BB!NYgP]:@JXm~_n@C\n",
      "XXq)nc]pv$g8Zte1i$i)\n",
      "Cf9LdQ55t]h4r}k}sg;p\n",
      "aZ8[(Ao^/CVT}P4gdp~=\n",
      "50k;.-;2)WMkD,1,*xb,\n",
      "Nx@mE-Z#_;S^6]UXrG|[\n",
      "(WV6c}L1vO^BN9`:$#89\n",
      "E[ora@bPSX~IjbeLwVsy\n",
      ":web4NN8^oYjn.MCFceS\n",
      "N+?B=!Y_R)n)T81|xHDN\n",
      "I[uw%9x$rG}NLZO:,b07\n",
      "BgFXe.cYxQ((~+Z{u$Ja\n",
      "mKPUHXJyQ7cmUAcC_u^5\n",
      "/3#^_c$M!0`U27m%qSv_\n",
      "wb%:uxKwRq:FO650Sf|l\n",
      "Z~{2P6tdBd.xq8C%oeZ9\n",
      "En/lxc8#2_xztmyu|whI\n",
      "$cT!i#t{,g!_6{z~T_h.\n",
      "TKC,M;F3vri)Hkjm1CX2\n",
      "PuS@:w:1l@(3hAM;RsN,\n",
      "tjw;WAf[Hs?!ajKr)PLW\n",
      "i{~A*G#N1=]hd_@wK,A)\n",
      "G`*6m!1Adwua$.icxOpx\n",
      "~Gq7igy[?787Gf^)E*IU\n",
      "h[o8j}FVD+ICR58ak6TH\n",
      "{mJySO0RH}NUc^T@9guX\n",
      "vFs7~iRp{Lt0/mNA2hs`\n",
      "4LHe8+u2w%EctIR@jeRF\n",
      "?_ZbZ;!vMrV%X!-U{7_F\n",
      "~#X(7:5@.#g64xUvRAO}\n",
      "qp/-;a!GMq`?q,L{{AMe\n",
      "3-NKI(Q|}@%Mh{sttu{d\n",
      "SJPya8G!eBjN8/H-A7e1\n",
      "}wVX5t=,S0stb-dC2mK5\n",
      "5,@nPks.$#|cFdP}j(#z\n",
      "RTZ(r{wcnhHIe+~e?Uc9\n",
      "i;(Q3$@IU_D.li~Yf8qf\n",
      "V5y_PJARc^rKWL-qg;$#\n",
      "(Q@n;|9j=l*_n!aTK!lH\n",
      "s=^R:O3QTBZ!DV9DJ~`e\n",
      "nlv)iGjF[PLE8HZygNm^\n",
      ",HHz}bBlACyMhm_]z-P`\n",
      "OJyXiyzpP7jB]GzGc3?w\n",
      "1X#5uYCYh4p1`FSU*d-2\n",
      "2p!@$1syid%;y^D,hI9d\n",
      "6*J^tX.g1:W_TW^z4GsA\n",
      "l:o63X5a}Y/l|e5Bv9!V\n",
      "6z!6z_LLm*KjhC.`nD?*\n",
      "(l5sqIKJ}wA5Q[J2d.5m\n",
      "+TEy,,faeOByO/KP@-#;\n",
      "e@=(U3c%rj;X8DrmO_i)\n",
      "/@ti:1{Q1BSUJyabT`AD\n",
      "IE^V$S!t_.P$a=T*qZOz\n",
      "kX!@O+!#9V*fr3(PT@56\n",
      "ckSbL`ge|$Smg?b)?}H/\n",
      "]T6V[X-sTqZ^W7%FqgrX\n",
      "aI$DED+*nWrRD#!W5ETs\n",
      "vFgE8dhb*YWb[q:nE[|X\n",
      "D`h_fRG~edsP1f3aWJBm\n",
      "./uGy$Nb7X8$7q8,,6@L\n",
      "y$M[2=JPkUV#P7IFL5U*\n",
      "#9mo`m_Md+x,eM](n5a!\n",
      "D#5lEVx~sEyha(1U]qfZ\n",
      "9.gx3*-kyd6BF.=]@5i^\n",
      "7E3}r.!WW;Gj8#x3=[R3\n",
      "`uxDp|TTefZpR_i{GOoz\n",
      "V_}X7=,sg@d60vTP5;#P\n",
      "!Zn,nV:dJWaQ%MWjb9of\n",
      "X#l)@[*~PoHiRF66mCvu\n",
      "AfV+uYjm]tkcOI20lLs5\n",
      "l3X3YqlY9q_S}OUf{r1f\n",
      "!3BHSYD!SY#!||qc}c0*\n",
      "x`)Js}Wc|Bf*0:C/_BBr\n",
      "]|d;FHM0:R26%tF==X]P\n",
      "{J*rplI`p,Rx0:_bWaY5\n",
      "-f!:(D7gc#lU$b3{3,Ic\n",
      ";/aPI0b5S-fn_C9{ro/0\n",
      "j*A,B6qhUYSq:U=n9eg8\n",
      "!];[kT0dk5ipf6hT2?kc\n",
      "NA^DReZ_,Kqq5RU,VBw2\n",
      "ztsTT=:^wYNzYLz2R%-n\n",
      "RUo6n3{Z:=0mCi_#9$R8\n",
      "9h`*DaoV,Xs|NbG!EliW\n",
      "A=8Auv^4WWS$#huM#Z%g\n",
      "pE!U^!r*mThPw@HoIH)`\n",
      "zeF+x*d}xwT(jMn{uomF\n",
      "Ki|Yl@_H8O/=)!]b[Hx.\n",
      "Vswog`o,tA?bQ:nM{E:%\n",
      "u8w-/G{@nV+#|a.f*CqS\n",
      "m{R]w+ZgKR#Z|P9LLqL.\n",
      "~e.PTwka#?5vcaF6|JI.\n",
      "s{?EMhu$2kw(NTxhhF%G\n",
      "`^4SJDusTTSaI~W$69r=\n",
      "%F^k5wi]c20mu/tC?a~i\n",
      "oEuSGjo`vG-:DpW$9GuN\n",
      "8uTH=#(fIFJ]-x.Sxc$,\n",
      "s97fc73TB:q_ECG3|TYX\n",
      "e+BqyfNw/tdXX)mNm@VQ\n",
      "a^;b13B,)-}luxm%VYwn\n",
      "@lngS|`VNdkP#fK=F:@x\n",
      "MDJZVe7/.YI~ujtP0Ul_\n",
      "9%]|o`Z-@9SEO8Q~?B%g\n",
      "HCfunSX:uppf7Ye3N5cL\n",
      "IFMs;u+r;hVe[g0jWQ`$\n",
      "9t!AeHG_$}*$4[5#1dk:\n",
      "04;UAm8Va0Z)LLG?M.Lm\n",
      "bPinEW2v_xN^Hy.=T4R$\n",
      "6JJ|`HUbK}$+M1bBSD46\n",
      "`^LJ).Y*YP}AjdcIz@[X\n",
      "BX`H/r46E,v6PWV-Y?Y:\n",
      "EKllT`%3:SHPgh~S}|bO\n",
      "=%9ArdGKSkj`p{g.{Dyc\n",
      "#NsIV${5X?rM7wHiRsv}\n",
      "K^cRhKMO2~k_g9:`ZsJI\n",
      "I|$nITXjo6^a*LX_]C$:\n",
      "Qd6}]%0kpdH8R{$7LYpK\n",
      "mto@W]2/Vd#HIP6mrlOv\n",
      "WGEDc6T}fac$S0Z*H7eW\n",
      "?![XO0YO).xjXTyW7P6t\n",
      "BOt]a.g+Z[Y!z,cJ5p$G\n",
      "7f]TN^qJzQsy).!].d3b\n",
      "_U0Jz0rQv#g5DxLYi.[$\n",
      "~WV*:a9%;[#lI|1!3;~k\n",
      "9W@m@b}~39p$12q3%t(4\n",
      "%!:S4#+IZE9Zw[Pm.18G\n",
      "yO]Tp{6l-U@I0`q=/0?$\n",
      "nQIo+3GFb`+[Q3wRP}oa\n",
      "cw_Y5LeLnH+@%6LN:.B:\n",
      "5+9[r`iL5,#B#Gw8]SV@\n",
      "z::~YujIL6YQn*pt.[TH\n",
      "C^hcYX=TW}rn}^;BgJ6j\n",
      "y|M|[UNZGCjcbui%j7pc\n",
      "H_A3YiFGR$ghV9Q13-;#\n",
      "w9PeI`Ee(~B%g+E#+^E^\n",
      "08GLCKi/Bg^Y~b^G[Bv2\n",
      "R,Hd)dr|:gps|metu=F)\n",
      "(Vuj7,yaWwWhF#/$)~ys\n",
      ".hj$t!R$mD%GhrcmDCV,\n",
      "1oY)WM`i$crDmkIKI;t!\n",
      "[8G34d2N`i:NR2t7Oe65\n",
      "-x{@S.$=PcRLv3u!v.p6\n",
      "tJ!xdH+7#Lgkwh|[xkXb\n",
      "XXH7^GFF}%(tT$@AB}@$\n",
      "z=m2#D}Z2(83B93oir@i\n",
      "pt5EBt%`g~01hthoIN-6\n",
      "ui#w3`f|.wH$;e5P2hm9\n",
      "2uY+:2`aAKl$U3pOw:m@\n",
      "?nP_e-dL)75X}spElMn0\n",
      "dz/EGjb6+yN`0**G+i_S\n",
      "i6RLR=tK{h5Kh[%rEcSu\n",
      "G|8K|d=]kr/wU@+3K/F=\n",
      "L#!z)qeUTIwRKC{z%0}C\n",
      "hpKbDcL(fjaHX=1D(!jM\n",
      "=50PdkI+1-l$WCGG~[d,\n",
      ",KbEg5sv^BBp1f`O!rZ}\n",
      "3?$FiH|E3J/%bSSo3ES*\n",
      "Y):r9iG*E!b]f69coTW-\n",
      "!^F,@{@Y^jWgn1g:LS*Q\n",
      "$81j.+/iRrR]+_60tHOo\n",
      "rO/)+_C$JH9BeP*WvX1;\n",
      "lDx#upOk{G81Dr2D[?uo\n",
      "dD])HQD?eKZ4;7]k%lSe\n",
      "zO+69y+Xw}CMM^5d#`TD\n",
      "EDJo:zEDGXsRX58fZwTZ\n",
      "+RW^V)IpF[)X%kPST;Y!\n",
      "xZ`$-gn]DRgYud=zXKbq\n",
      "vq.CnrPov,aVwHOQ5EAE\n",
      "T*Z`haE_!bG{Lm|x*%4d\n",
      "JNouDwt;Rz.H?0~4.7*1\n",
      "|~-}K2Dn}o-$j:nOdNQ*\n",
      "J%|m4SX@3_[5la,TOY5+\n",
      "[ep#CW%4TJR6l0E:%26M\n",
      "u]uZW4:Y^Si)uGIaPpIX\n",
      ";COZp-TI%RFOrNQ2YvdB\n",
      "t(.;?y94)n`9sFD5Qvo*\n",
      "ZE3tV#/z7!jMTY}PjZX6\n",
      "wE(l^e=k8+OzP_C(*]LC\n",
      "~IR}[5:hj@r;k_0jq?AK\n",
      "HGt:b}Y844s6cJ%_~q;b\n",
      "3/Nb:e#~Go{wQq*BN#qC\n",
      "zykR$wd._~@3ke]NK;;*\n",
      "5bPi$jH9]NLWWQ`Xk*CD\n",
      ".s8gCY?Es:GDPp47Xx}1\n",
      "hX79tM2SDC.ttkzsa##+\n",
      "^m|c8}mq7.^mZf.v`L~d\n",
      "ynMF%+?niI0lU}Gg21eN\n",
      "GVi]hgO(~K]F5KDYKrEB\n",
      "l(gUqk?z5]~x2).go}z|\n",
      "W=.si${Y5av]P1*_.fI^\n",
      "Es:d_c7Nv!m(4E];E294\n",
      "B(:]V*dbN)ol?9[C}X%M\n",
      "#8-0FS+nSZ(*4!-*[JB~\n",
      "{-`HBb^|ScyImIl_f*)[\n",
      "x)}2LwyL-Ie$j-9/(3L_\n",
      "jdaWoh5m(C;,//BV7l)5\n",
      "^8/Lj~]Nf`:/*M^P3:RD\n",
      "AR.y;W+8dmE+A@i4~T?j\n",
      "OQ6ho`9Xq8YPdmo+uA1L\n",
      "is3=^4;aYwPjR`[?}tk9\n",
      "PNQ(k:GER8!PnPLL?4YM\n",
      "(yge8`Dm%a|hVWIzzr8}\n",
      "n).GRmut).sm%dK}Ox#l\n",
      "C?4Q[]itGzwUUol+bcXy\n",
      "^Tylv%|7W|OTu_@8kUN5\n",
      "Ci@ESOKOjd%I|D5`^?^8\n",
      "nj/F6Uw2`hxpceq07bci\n",
      "A{m3+*|gO/A7lKd(;@]Y\n",
      "4{nnqvq@:))SEJ4{[^m9\n",
      "=K:u(vTu(FPv8g{p^C5!\n",
      "JD1P0Y2JXli9gWU0f2dK\n",
      "l.{v0F,v_gTBQ))mC_GL\n",
      "bJWZIC%ksA$WZ*!M?yp9\n",
      "js;6/?8.CB}#WjWe8-k%\n",
      "Ix[jC3-j%fRCvdz+Zk%C\n",
      ",d+,fXcL_Yq9O6l~Ztit\n",
      "Vb|@kkT},54B[-b,4,pP\n",
      "gN00Shf:)MT7N0!/eL$)\n",
      "X3(4-ZVEBw7FS2:47#O#\n",
      "@z,ie0.7ubMD$_)bq@[Y\n",
      "c5l@JkJShfw!vPN_16t1\n",
      "eOl+XD,u^+UGw3yb^1gI\n",
      "XO@j==ys+o8raegb.1hx\n",
      "M:Y5:T^hw_NnIcZ7ZWo?\n",
      "SkUCHRrQ_3ph7a2=IO#w\n",
      "rUS~OhVEo)`t[iH(v{E9\n",
      "VmvvM7cJa^RgG!c$nn|n\n",
      "o7YS!v0C5{8)Kfa|R)@k\n",
      "yOjt,MdoSW)@u)R@F%d-\n",
      "3+~N*S/ZwVhQ0eIlyngc\n",
      "8709)p|)3asFHg^Q:C$e\n",
      "$,tJ)nApM/%-V!vxO^d~\n",
      "f2$-Thhwd*!8z4d%3KD4\n",
      "`MxJTS?uhlOAlZM}6F!w\n",
      "L~hA*~^Q@XKHq@L@9u?y\n",
      "~Z)aqAEK#w^b*8LAN]ys\n",
      "`lVyI2I9O8s9[i1il[F%\n",
      "]iF8T_wQ~}VQe,%tS]u)\n",
      "~7.Xa[Rb7VaFsO)liGaz\n",
      "PJ9x)nw7|.=ks|?=ynxE\n",
      "tl`q30t|~k0.YcICqg?J\n",
      "]J{YxO++Ml75JP`PTJo!\n",
      "CHT0sF%]`jMSqC6F@oRh\n",
      "*Fy|AO9(.Y2?UUnKC1-g\n",
      "BP~r]1loJ3$SKRTKX3*8\n",
      "ru]yI-K+KdM_^%m^x?TQ\n",
      ":G.?i:U;_3@0_a}coxDF\n",
      "L-sVE(,Q|~:,-jiV~a63\n",
      "035{K;y4`#z:!69Ob1GY\n",
      ";_6x3)xgzUyPu4rIc#^f\n",
      "|lUx2I*7Ihs-mFl{qM{R\n",
      "_nO5L1;!/U-PiyU9P@pz\n",
      "qF+8Y7M8EEDFOmm)j$W!\n",
      "t)L0HXEA,vPrgSj,J5hg\n"
     ]
    },
    {
     "ename": "TypeError",
     "evalue": "list indices must be integers or slices, not str",
     "output_type": "error",
     "traceback": [
      "\u001b[0;31m---------------------------------------------------------------------------\u001b[0m",
      "\u001b[0;31mTypeError\u001b[0m                                 Traceback (most recent call last)",
      "\u001b[0;32m<ipython-input-16-b70fcba6c41f>\u001b[0m in \u001b[0;36m<module>\u001b[0;34m()\u001b[0m\n\u001b[1;32m     78\u001b[0m \u001b[0;34m\u001b[0m\u001b[0m\n\u001b[1;32m     79\u001b[0m                     \u001b[0;32mif\u001b[0m \u001b[0;34m'input'\u001b[0m \u001b[0;32min\u001b[0m \u001b[0mdict_json\u001b[0m\u001b[0;34m[\u001b[0m\u001b[0;34m'targets'\u001b[0m\u001b[0;34m]\u001b[0m\u001b[0;34m[\u001b[0m\u001b[0mj\u001b[0m\u001b[0;34m]\u001b[0m\u001b[0;34m[\u001b[0m\u001b[0;34m'blocks'\u001b[0m\u001b[0;34m]\u001b[0m\u001b[0;34m[\u001b[0m\u001b[0mkeys_b\u001b[0m\u001b[0;34m[\u001b[0m\u001b[0mk\u001b[0m\u001b[0;34m]\u001b[0m\u001b[0;34m]\u001b[0m\u001b[0;34m:\u001b[0m\u001b[0;34m\u001b[0m\u001b[0;34m\u001b[0m\u001b[0m\n\u001b[0;32m---> 80\u001b[0;31m                         \u001b[0mkeys_i\u001b[0m\u001b[0;34m=\u001b[0m\u001b[0mlist\u001b[0m\u001b[0;34m(\u001b[0m\u001b[0mdict_json\u001b[0m\u001b[0;34m[\u001b[0m\u001b[0;34m'targets'\u001b[0m\u001b[0;34m]\u001b[0m\u001b[0;34m[\u001b[0m\u001b[0mj\u001b[0m\u001b[0;34m]\u001b[0m\u001b[0;34m[\u001b[0m\u001b[0;34m'blocks'\u001b[0m\u001b[0;34m]\u001b[0m\u001b[0;34m[\u001b[0m\u001b[0mkeys_b\u001b[0m\u001b[0;34m[\u001b[0m\u001b[0mk\u001b[0m\u001b[0;34m]\u001b[0m\u001b[0;34m]\u001b[0m\u001b[0;34m[\u001b[0m\u001b[0;34m'input'\u001b[0m\u001b[0;34m]\u001b[0m\u001b[0;34m.\u001b[0m\u001b[0mkeys\u001b[0m\u001b[0;34m(\u001b[0m\u001b[0;34m)\u001b[0m\u001b[0;34m)\u001b[0m\u001b[0;34m\u001b[0m\u001b[0;34m\u001b[0m\u001b[0m\n\u001b[0m\u001b[1;32m     81\u001b[0m                         \u001b[0mlen_k\u001b[0m\u001b[0;34m=\u001b[0m\u001b[0mlen\u001b[0m\u001b[0;34m(\u001b[0m\u001b[0mkeys_i\u001b[0m\u001b[0;34m)\u001b[0m\u001b[0;34m\u001b[0m\u001b[0;34m\u001b[0m\u001b[0m\n\u001b[1;32m     82\u001b[0m                         \u001b[0;32mif\u001b[0m \u001b[0mlen_k\u001b[0m \u001b[0;34m==\u001b[0m \u001b[0;36m0\u001b[0m\u001b[0;34m:\u001b[0m\u001b[0;34m\u001b[0m\u001b[0;34m\u001b[0m\u001b[0m\n",
      "\u001b[0;31mTypeError\u001b[0m: list indices must be integers or slices, not str"
     ]
    }
   ],
   "source": [
    "#insert table: Blocks\n",
    "#add parameters\n",
    "\n",
    "print('Insert table: Blocks.',time.strftime(\"%Y-%m-%d %H:%M:%S\", time.localtime()))\n",
    "\n",
    "\n",
    "#if len_script > 0\n",
    "#if block_vol > 0\n",
    "\n",
    "#for i in range(0,len_v3):\n",
    "for i in range(0,1):\n",
    "#for i in range(10000,20000):\n",
    "#for i in range(20000,30000):\n",
    "#for i in range(30000,40000):\n",
    "#for i in range(40000,len_v3):\n",
    "    #print(list_v3[i])\n",
    "    file_ad='projects_json/'+'348122142.json'\n",
    "    \n",
    "    with open(file_ad,'r',encoding='ISO-8859-1') as f:\n",
    "        dict_json = json.load(f)  \n",
    "    \n",
    "    file_name='348122142.json'\n",
    "    id_n=file_name.split('.')[0] \n",
    "    project_id=int(id_n)\n",
    "    \n",
    "    #print(project_id)\n",
    "    \n",
    "    len_script=len(dict_json['targets'])\n",
    "    if len_script > 0:\n",
    "        for j in range(0,len_script):\n",
    "            print(j)\n",
    "            sprite_no=j\n",
    "            sprite_name=dict_json['targets'][j]['name']\n",
    "            block_vol=len(dict_json['targets'][j]['blocks'].keys())\n",
    "            keys_b=list(dict_json['targets'][j]['blocks'].keys())\n",
    "            \n",
    "            #print(j)\n",
    "            \n",
    "            if block_vol > 0:\n",
    "                for k in range(0,block_vol):\n",
    "                    #print('k=',k)\n",
    "                    block_no=k\n",
    "                    \n",
    "                    #print(k)\n",
    "                    \n",
    "                    block_name=list(dict_json['targets'][j]['blocks'].keys())[k]\n",
    "                    print(block_name)\n",
    "                    b_tp=type(dict_json['targets'][j]['blocks'][keys_b[k]])\n",
    "                    if b_tp==dict:\n",
    "                        if 'opcode' in dict_json['targets'][j]['blocks'][keys_b[k]]:\n",
    "                            opcode_b=dict_json['targets'][j]['blocks'][keys_b[k]]['opcode']\n",
    "                        if 'next' in dict_json['targets'][j]['blocks'][keys_b[k]]:\n",
    "                            next_b=dict_json['targets'][j]['blocks'][keys_b[k]]['next']\n",
    "                        if 'parent' in dict_json['targets'][j]['blocks'][keys_b[k]]:\n",
    "                            parent_b=dict_json['targets'][j]['blocks'][keys_b[k]]['parent']\n",
    "                        else:\n",
    "                            parent_b=' '\n",
    "                    \n",
    "                    if isinstance(opcode_b,str):\n",
    "                                opcode_b=opcode_b\n",
    "                    else:\n",
    "                        opcode_b=' '\n",
    "                    \n",
    "                    \n",
    "                    if isinstance(next_b,str):\n",
    "                        next_b=next_b\n",
    "                    else:\n",
    "                        next_b=' '\n",
    "                \n",
    "                    if isinstance(parent_b,str):\n",
    "                        parent_b=parent_b\n",
    "                    else:\n",
    "                        parent_b=' '\n",
    "                    \n",
    "                    \n",
    "                    \n",
    "                    para1=' '\n",
    "                    para2=' '\n",
    "                    \n",
    "                    if 'input' in dict_json['targets'][j]['blocks'][keys_b[k]]:\n",
    "                        keys_i=list(dict_json['targets'][j]['blocks'][keys_b[k]]['input'].keys())\n",
    "                        len_k=len(keys_i)\n",
    "                        if len_k == 0:\n",
    "                            para1=' '\n",
    "                            para2=' '\n",
    "                        else:\n",
    "                            para_t1=dict_json['targets'][j]['blocks'][keys_b[k]]['input'][keys_i[0]][1]\n",
    "                            if type(para_t1)==list:\n",
    "                                para_t1=para_t1[1]\n",
    "                            para1=para_t1\n",
    "                        if len_k > 1:\n",
    "                            para_t2=dict_json['targets'][j]['blocks'][keys_b[k]]['input'][keys_i[1]][1]\n",
    "                            if type(para_t2)==list:\n",
    "                                para_t2=para_t2[1]\n",
    "                            para2=para_t2\n",
    "                        \n",
    "                    \n",
    "                    #next_b=validateTitle(next_b)\n",
    "                    #opcode_b=validateTitle(opcode_b)\n",
    "                    #parent_b=validateTitle(parent_b)\n",
    "                    sprite_name=CheckName250(sprite_name)\n",
    "                    block_name=CheckName250(block_name)\n",
    "                \n",
    "                    #cur.execute(\"INSERT INTO Blocks(Project_id,Sprite_No,Sprite_name,Block_No,Block_name,opcode,next,parent,para1,para2) VALUES(%s,%s,%s,%s,%s,%s,%s,%s,%s,%s)\",[project_id,sprite_no,sprite_name,block_no,block_name,opcode_b,next_b,parent_b,para1,para2])\n",
    "\n",
    "\n",
    "\n",
    "#db.commit()\n",
    "\n",
    "print('Insert finished.',time.strftime(\"%Y-%m-%d %H:%M:%S\", time.localtime()))\n"
   ]
  },
  {
   "cell_type": "code",
   "execution_count": 17,
   "metadata": {},
   "outputs": [
    {
     "data": {
      "text/plain": [
       "25"
      ]
     },
     "execution_count": 17,
     "metadata": {},
     "output_type": "execute_result"
    }
   ],
   "source": [
    "k"
   ]
  },
  {
   "cell_type": "code",
   "execution_count": 31,
   "metadata": {},
   "outputs": [
    {
     "data": {
      "text/plain": [
       "list"
      ]
     },
     "execution_count": 31,
     "metadata": {},
     "output_type": "execute_result"
    }
   ],
   "source": [
    "ccc=dict_json['targets'][j]['blocks'][keys_b[22]]\n",
    "type(ccc)\n"
   ]
  },
  {
   "cell_type": "code",
   "execution_count": 102,
   "metadata": {},
   "outputs": [
    {
     "data": {
      "text/plain": [
       "'.3'"
      ]
     },
     "execution_count": 102,
     "metadata": {},
     "output_type": "execute_result"
    }
   ],
   "source": [
    "j=0\n",
    "k=0\n",
    "sprite_no=j\n",
    "sprite_name=dict_json['targets'][j]['name']\n",
    "block_vol=len(dict_json['targets'][j]['blocks'].keys())\n",
    "keys_b=list(dict_json['targets'][j]['blocks'].keys())\n",
    "bb=dict_json['targets'][j]['blocks'][keys_b[1]]['inputs']\n",
    "cc=list(bb.keys())\n",
    "ccc=bb['DURATION'][1]\n",
    "\n",
    "ccc[1]\n"
   ]
  },
  {
   "cell_type": "code",
   "execution_count": null,
   "metadata": {},
   "outputs": [],
   "source": []
  },
  {
   "cell_type": "code",
   "execution_count": null,
   "metadata": {},
   "outputs": [],
   "source": []
  },
  {
   "cell_type": "code",
   "execution_count": 62,
   "metadata": {},
   "outputs": [
    {
     "name": "stdout",
     "output_type": "stream",
     "text": [
      "Insert table: Monitors. 2020-01-26 16:11:23\n",
      "Insert finished. 2020-01-26 17:34:11\n"
     ]
    }
   ],
   "source": [
    "#insert table: Monitors\n",
    "\n",
    "print('Insert table: Monitors.',time.strftime(\"%Y-%m-%d %H:%M:%S\", time.localtime()))\n",
    "\n",
    "\n",
    "for i in range(0,len_v3):\n",
    "    file_ad='projects_json/'+list_v3[i]\n",
    "    with open(file_ad,'r',encoding='ISO-8859-1') as f:\n",
    "        dict_json = json.load(f)  \n",
    "    \n",
    "    file_name=list_v3[i]\n",
    "    id_n=file_name.split('.')[0] \n",
    "    project_id=int(id_n)\n",
    "    \n",
    "    len_m=len(dict_json['monitors'])\n",
    "    if len_m > 0:\n",
    "        for j in range(0,len_m):\n",
    "            monitor_no=i\n",
    "            id_name=dict_json['monitors'][j]['id']\n",
    "            mode_m=dict_json['monitors'][j]['mode']\n",
    "            opcode_m=dict_json['monitors'][j]['opcode']\n",
    "            if 'spriteName' in dict_json['monitors'][j]:\n",
    "                spritename_m=dict_json['monitors'][j]['spriteName']\n",
    "            if isinstance(spritename_m,str):\n",
    "                spritename_m=spritename_m\n",
    "            else:\n",
    "                spritename_m=' '\n",
    "            id_name=CheckName250(id_name)\n",
    "            spritename_m=CheckName250(spritename_m)\n",
    "            \n",
    "            cur.execute(\"INSERT INTO Monitors(Project_id,Monitor_No,Monitor_name,mode,opcode,Sprite_Name) VALUES(%s,%s,%s,%s,%s,%s)\",[project_id, monitor_no, id_name, mode_m, opcode_m,spritename_m])\n",
    "\n",
    "            \n",
    "\n",
    "db.commit()\n",
    "\n",
    "print('Insert finished.',time.strftime(\"%Y-%m-%d %H:%M:%S\", time.localtime()))"
   ]
  },
  {
   "cell_type": "code",
   "execution_count": null,
   "metadata": {},
   "outputs": [],
   "source": [
    "#4s"
   ]
  },
  {
   "cell_type": "code",
   "execution_count": 45,
   "metadata": {},
   "outputs": [],
   "source": [
    "#close database at last\n",
    "if db:\n",
    "    db.close()"
   ]
  },
  {
   "cell_type": "code",
   "execution_count": null,
   "metadata": {},
   "outputs": [],
   "source": []
  }
 ],
 "metadata": {
  "kernelspec": {
   "display_name": "Python 3",
   "language": "python",
   "name": "python3"
  },
  "language_info": {
   "codemirror_mode": {
    "name": "ipython",
    "version": 3
   },
   "file_extension": ".py",
   "mimetype": "text/x-python",
   "name": "python",
   "nbconvert_exporter": "python",
   "pygments_lexer": "ipython3",
   "version": "3.6.8"
  }
 },
 "nbformat": 4,
 "nbformat_minor": 2
}
